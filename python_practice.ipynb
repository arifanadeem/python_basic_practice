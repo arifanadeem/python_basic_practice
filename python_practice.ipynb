{
 "cells": [
  {
   "cell_type": "markdown",
   "id": "d7bd6e3d",
   "metadata": {},
   "source": [
    "# variable creation"
   ]
  },
  {
   "cell_type": "code",
   "execution_count": 1,
   "id": "10491860",
   "metadata": {},
   "outputs": [
    {
     "name": "stdout",
     "output_type": "stream",
     "text": [
      "5\n"
     ]
    }
   ],
   "source": [
    "a=2\n",
    "b=3\n",
    "c=a+b\n",
    "print(c)"
   ]
  },
  {
   "cell_type": "code",
   "execution_count": 3,
   "id": "9fbf0217",
   "metadata": {},
   "outputs": [
    {
     "name": "stdout",
     "output_type": "stream",
     "text": [
      "hello world\n"
     ]
    }
   ],
   "source": [
    "a=\"hello\"\n",
    "b=\"world\"\n",
    "c= a+ \" \"+b\n",
    "print(c)"
   ]
  },
  {
   "cell_type": "code",
   "execution_count": 5,
   "id": "9eecb096",
   "metadata": {},
   "outputs": [
    {
     "name": "stdout",
     "output_type": "stream",
     "text": [
      "apple\n",
      "banana orange\n"
     ]
    }
   ],
   "source": [
    "x,y,z=\"apple\",\"banana\",\"orange\"\n",
    "print(x)\n",
    "print(y,z)"
   ]
  },
  {
   "cell_type": "code",
   "execution_count": 7,
   "id": "b43df723",
   "metadata": {},
   "outputs": [
    {
     "name": "stdout",
     "output_type": "stream",
     "text": [
      "('apple', 'banana', 'orange')\n",
      "('apple', 'banana', 'orange') ('apple', 'banana', 'orange')\n"
     ]
    }
   ],
   "source": [
    "x=y=z=\"apple\",\"banana\",\"orange\"\n",
    "print(x)\n",
    "print(y,z)"
   ]
  },
  {
   "cell_type": "markdown",
   "id": "5d7c222b",
   "metadata": {},
   "source": [
    "# Buildin functions"
   ]
  },
  {
   "cell_type": "code",
   "execution_count": 8,
   "id": "aef51f1b",
   "metadata": {},
   "outputs": [
    {
     "data": {
      "text/plain": [
       "tuple"
      ]
     },
     "execution_count": 8,
     "metadata": {},
     "output_type": "execute_result"
    }
   ],
   "source": [
    "type(x)"
   ]
  },
  {
   "cell_type": "code",
   "execution_count": 9,
   "id": "fd5040de",
   "metadata": {},
   "outputs": [
    {
     "data": {
      "text/plain": [
       "range(0, 10)"
      ]
     },
     "execution_count": 9,
     "metadata": {},
     "output_type": "execute_result"
    }
   ],
   "source": [
    "range(10)"
   ]
  },
  {
   "cell_type": "code",
   "execution_count": 10,
   "id": "84dfbf90",
   "metadata": {},
   "outputs": [
    {
     "data": {
      "text/plain": [
       "3"
      ]
     },
     "execution_count": 10,
     "metadata": {},
     "output_type": "execute_result"
    }
   ],
   "source": [
    "len(x)"
   ]
  },
  {
   "cell_type": "code",
   "execution_count": 11,
   "id": "b21e7be5",
   "metadata": {},
   "outputs": [
    {
     "data": {
      "text/plain": [
       "32"
      ]
     },
     "execution_count": 11,
     "metadata": {},
     "output_type": "execute_result"
    }
   ],
   "source": [
    "pow(2,5)"
   ]
  },
  {
   "cell_type": "code",
   "execution_count": 12,
   "id": "1a421d6a",
   "metadata": {},
   "outputs": [
    {
     "data": {
      "text/plain": [
       "['a', 's', 'v', 'x']"
      ]
     },
     "execution_count": 12,
     "metadata": {},
     "output_type": "execute_result"
    }
   ],
   "source": [
    "sorted(['a','v','s','x'])"
   ]
  },
  {
   "cell_type": "markdown",
   "id": "b5f3bfa8",
   "metadata": {},
   "source": [
    "# List"
   ]
  },
  {
   "cell_type": "code",
   "execution_count": 15,
   "id": "0d9ab79c",
   "metadata": {},
   "outputs": [
    {
     "name": "stdout",
     "output_type": "stream",
     "text": [
      "[0, 1, 2, 3, 4, 5, 6, 7, 8, 9]\n"
     ]
    }
   ],
   "source": [
    "#initilizing list\n",
    "a=[]\n",
    "b=list()\n",
    "c=[1,2,3,4,5]\n",
    "d=[value for value in range(10)]\n",
    "print(d)"
   ]
  },
  {
   "cell_type": "code",
   "execution_count": 28,
   "id": "da01f996",
   "metadata": {},
   "outputs": [
    {
     "name": "stdout",
     "output_type": "stream",
     "text": [
      "[3, 4, 5, 3, 2]\n"
     ]
    }
   ],
   "source": [
    "list =[2,4,5,3,2]\n",
    "list[0]=3\n",
    "print(list)"
   ]
  },
  {
   "cell_type": "code",
   "execution_count": 29,
   "id": "3789757b",
   "metadata": {},
   "outputs": [
    {
     "name": "stdout",
     "output_type": "stream",
     "text": [
      "[3, 4, 5, 3, 2, 2]\n"
     ]
    }
   ],
   "source": [
    "list.append(2)\n",
    "print(list)"
   ]
  },
  {
   "cell_type": "code",
   "execution_count": 30,
   "id": "dc8aed11",
   "metadata": {},
   "outputs": [
    {
     "name": "stdout",
     "output_type": "stream",
     "text": [
      "[1, 3, 4, 5, 3, 2, 2]\n"
     ]
    }
   ],
   "source": [
    "list.insert(0,1)\n",
    "print(list)"
   ]
  },
  {
   "cell_type": "code",
   "execution_count": 31,
   "id": "1d0deafe",
   "metadata": {},
   "outputs": [
    {
     "name": "stdout",
     "output_type": "stream",
     "text": [
      "[1, 3, 4, 5, 3, 2]\n"
     ]
    }
   ],
   "source": [
    "list.pop()\n",
    "print(list)"
   ]
  },
  {
   "cell_type": "code",
   "execution_count": 32,
   "id": "72dac5ff",
   "metadata": {},
   "outputs": [
    {
     "name": "stdout",
     "output_type": "stream",
     "text": [
      "[1, 3, 4, 5, 2]\n"
     ]
    }
   ],
   "source": [
    "list.pop(4)\n",
    "print(list)"
   ]
  },
  {
   "cell_type": "code",
   "execution_count": 33,
   "id": "06724c92",
   "metadata": {},
   "outputs": [
    {
     "data": {
      "text/plain": [
       "[1, 2, 3, 4, 5]"
      ]
     },
     "execution_count": 33,
     "metadata": {},
     "output_type": "execute_result"
    }
   ],
   "source": [
    "sorted(list)"
   ]
  },
  {
   "cell_type": "markdown",
   "id": "0b0f8400",
   "metadata": {},
   "source": [
    "# Dictionary"
   ]
  },
  {
   "cell_type": "code",
   "execution_count": 35,
   "id": "af6248fa",
   "metadata": {},
   "outputs": [
    {
     "name": "stdout",
     "output_type": "stream",
     "text": [
      "{'apple': 12, 'banana': 12, 'orange': '12'}\n",
      "<class 'dict'>\n"
     ]
    }
   ],
   "source": [
    "#initilizing dictionary\n",
    "my_dic={}\n",
    "dic1=dict()\n",
    "my_dic= {key:value for key,value in [['apple',12],['banana',12],['orange','12']]}\n",
    "print(my_dic)\n",
    "print(type(my_dic))"
   ]
  },
  {
   "cell_type": "code",
   "execution_count": 36,
   "id": "0cf97b14",
   "metadata": {},
   "outputs": [],
   "source": [
    "my_dic1={'pear':12,'date':12}\n",
    "my_dic.update(my_dic1)"
   ]
  },
  {
   "cell_type": "code",
   "execution_count": 37,
   "id": "d97b3d27",
   "metadata": {},
   "outputs": [
    {
     "name": "stdout",
     "output_type": "stream",
     "text": [
      "{'apple': 12, 'banana': 12, 'orange': '12', 'pear': 12, 'date': 12}\n"
     ]
    }
   ],
   "source": [
    "print(my_dic)"
   ]
  },
  {
   "cell_type": "code",
   "execution_count": 38,
   "id": "9cf2d121",
   "metadata": {},
   "outputs": [
    {
     "name": "stdout",
     "output_type": "stream",
     "text": [
      "{'apple': 12, 'banana': 12, 'orange': '12', 'pear': 12, 'date': 12, 'mango': 12}\n"
     ]
    }
   ],
   "source": [
    "my_dic[\"mango\"]=12\n",
    "print(my_dic)"
   ]
  },
  {
   "cell_type": "code",
   "execution_count": 40,
   "id": "199a1bdc",
   "metadata": {},
   "outputs": [
    {
     "data": {
      "text/plain": [
       "12"
      ]
     },
     "execution_count": 40,
     "metadata": {},
     "output_type": "execute_result"
    }
   ],
   "source": [
    "my_dic.pop('date')"
   ]
  },
  {
   "cell_type": "code",
   "execution_count": 41,
   "id": "f844ddf8",
   "metadata": {},
   "outputs": [
    {
     "name": "stdout",
     "output_type": "stream",
     "text": [
      "{'apple': 12, 'banana': 12, 'orange': '12', 'pear': 12, 'mango': 12}\n"
     ]
    }
   ],
   "source": [
    "print(my_dic)"
   ]
  },
  {
   "cell_type": "markdown",
   "id": "2cb908ab",
   "metadata": {},
   "source": [
    "# tuples"
   ]
  },
  {
   "cell_type": "code",
   "execution_count": 42,
   "id": "b204e55b",
   "metadata": {},
   "outputs": [
    {
     "data": {
      "text/plain": [
       "'linear algebra'"
      ]
     },
     "execution_count": 42,
     "metadata": {},
     "output_type": "execute_result"
    }
   ],
   "source": [
    "subjects= (\"data structure\",\"oop\",\"linear algebra\")\n",
    "subjects[2]"
   ]
  },
  {
   "cell_type": "code",
   "execution_count": 43,
   "id": "28716081",
   "metadata": {},
   "outputs": [
    {
     "ename": "TypeError",
     "evalue": "'tuple' object does not support item assignment",
     "output_type": "error",
     "traceback": [
      "\u001b[1;31m---------------------------------------------------------------------------\u001b[0m",
      "\u001b[1;31mTypeError\u001b[0m                                 Traceback (most recent call last)",
      "\u001b[1;32m~\\AppData\\Local\\Temp/ipykernel_14064/1907095290.py\u001b[0m in \u001b[0;36m<module>\u001b[1;34m\u001b[0m\n\u001b[1;32m----> 1\u001b[1;33m \u001b[0msubjects\u001b[0m\u001b[1;33m[\u001b[0m\u001b[1;36m2\u001b[0m\u001b[1;33m]\u001b[0m\u001b[1;33m=\u001b[0m\u001b[1;34m\"statics\"\u001b[0m\u001b[1;33m\u001b[0m\u001b[1;33m\u001b[0m\u001b[0m\n\u001b[0m",
      "\u001b[1;31mTypeError\u001b[0m: 'tuple' object does not support item assignment"
     ]
    }
   ],
   "source": [
    "#tupples not support the updation \n",
    "subjects[2]=\"statics\""
   ]
  },
  {
   "cell_type": "code",
   "execution_count": 53,
   "id": "288ac733",
   "metadata": {},
   "outputs": [
    {
     "ename": "TypeError",
     "evalue": "'list' object is not callable",
     "output_type": "error",
     "traceback": [
      "\u001b[1;31m---------------------------------------------------------------------------\u001b[0m",
      "\u001b[1;31mTypeError\u001b[0m                                 Traceback (most recent call last)",
      "\u001b[1;32m~\\AppData\\Local\\Temp/ipykernel_14064/439810085.py\u001b[0m in \u001b[0;36m<module>\u001b[1;34m\u001b[0m\n\u001b[0;32m      1\u001b[0m \u001b[1;31m# if we need to update value then we convert it into list then update value after that again convert into tuples\u001b[0m\u001b[1;33m\u001b[0m\u001b[1;33m\u001b[0m\u001b[0m\n\u001b[1;32m----> 2\u001b[1;33m \u001b[0msubjects_list\u001b[0m\u001b[1;33m=\u001b[0m\u001b[0mlist\u001b[0m\u001b[1;33m(\u001b[0m\u001b[0msubjects\u001b[0m\u001b[1;33m)\u001b[0m\u001b[1;33m\u001b[0m\u001b[1;33m\u001b[0m\u001b[0m\n\u001b[0m\u001b[0;32m      3\u001b[0m \u001b[0msubjects_list\u001b[0m\u001b[1;33m[\u001b[0m\u001b[1;36m2\u001b[0m\u001b[1;33m]\u001b[0m\u001b[1;33m=\u001b[0m\u001b[1;34m\"statics\"\u001b[0m\u001b[1;33m\u001b[0m\u001b[1;33m\u001b[0m\u001b[0m\n\u001b[0;32m      4\u001b[0m \u001b[0msubjects_tuples\u001b[0m\u001b[1;33m=\u001b[0m \u001b[0mtuples\u001b[0m\u001b[1;33m(\u001b[0m\u001b[0msubjects_list\u001b[0m\u001b[1;33m)\u001b[0m\u001b[1;33m\u001b[0m\u001b[1;33m\u001b[0m\u001b[0m\n\u001b[0;32m      5\u001b[0m \u001b[1;31m# this code run well in pycharm\u001b[0m\u001b[1;33m\u001b[0m\u001b[1;33m\u001b[0m\u001b[0m\n",
      "\u001b[1;31mTypeError\u001b[0m: 'list' object is not callable"
     ]
    }
   ],
   "source": [
    "# if we need to update value then we convert it into list then update value after that again convert into tuples\n",
    "subjects_list=list(subjects)\n",
    "subjects_list[2]=\"statics\"\n",
    "subjects_tuples= tuples(subjects_list)\n",
    "# this code run well in pycharm"
   ]
  },
  {
   "cell_type": "code",
   "execution_count": 54,
   "id": "ef113f9e",
   "metadata": {},
   "outputs": [],
   "source": [
    "del subjects"
   ]
  },
  {
   "cell_type": "code",
   "execution_count": 55,
   "id": "29867790",
   "metadata": {},
   "outputs": [
    {
     "ename": "NameError",
     "evalue": "name 'subject' is not defined",
     "output_type": "error",
     "traceback": [
      "\u001b[1;31m---------------------------------------------------------------------------\u001b[0m",
      "\u001b[1;31mNameError\u001b[0m                                 Traceback (most recent call last)",
      "\u001b[1;32m~\\AppData\\Local\\Temp/ipykernel_14064/1106935378.py\u001b[0m in \u001b[0;36m<module>\u001b[1;34m\u001b[0m\n\u001b[1;32m----> 1\u001b[1;33m \u001b[0mprint\u001b[0m\u001b[1;33m(\u001b[0m\u001b[0msubject\u001b[0m\u001b[1;33m)\u001b[0m\u001b[1;33m\u001b[0m\u001b[1;33m\u001b[0m\u001b[0m\n\u001b[0m",
      "\u001b[1;31mNameError\u001b[0m: name 'subject' is not defined"
     ]
    }
   ],
   "source": [
    "print(subject)\n",
    "# tuple subject has een deleted successfully"
   ]
  },
  {
   "cell_type": "markdown",
   "id": "2d2b4291",
   "metadata": {},
   "source": [
    "# Sets"
   ]
  },
  {
   "cell_type": "code",
   "execution_count": 57,
   "id": "3530129f",
   "metadata": {},
   "outputs": [
    {
     "name": "stdout",
     "output_type": "stream",
     "text": [
      "{1, 2, 3, 4, 5, 6}\n"
     ]
    }
   ],
   "source": [
    "#ways to initize the set\n",
    "s= set()\n",
    "s1= set([1,2,4,5,3])\n",
    "s1.add(6)\n",
    "s1.add(2) # 2 is already in set therefore it will not add it again\n",
    "print(s1)\n"
   ]
  },
  {
   "cell_type": "code",
   "execution_count": 58,
   "id": "a1d380b8",
   "metadata": {},
   "outputs": [],
   "source": [
    "s1.remove(4)"
   ]
  },
  {
   "cell_type": "code",
   "execution_count": 59,
   "id": "4e56b42f",
   "metadata": {},
   "outputs": [
    {
     "name": "stdout",
     "output_type": "stream",
     "text": [
      "{1, 2, 3, 5, 6}\n"
     ]
    }
   ],
   "source": [
    "print(s1)"
   ]
  },
  {
   "cell_type": "code",
   "execution_count": 109,
   "id": "3ca2f97c",
   "metadata": {},
   "outputs": [
    {
     "name": "stdout",
     "output_type": "stream",
     "text": [
      "union of two sets are: {1, 2, 3, 5, 7}\n",
      "intersection of two sets are: {5}\n",
      "difference of two sets are: {1, 3}\n",
      "x is subset of y?: False\n",
      "check either sets are disjoint?: False\n"
     ]
    }
   ],
   "source": [
    "x={1,3,5}\n",
    "y={5,7,2}\n",
    "print(\"union of two sets are:\",x|y)\n",
    "print(\"intersection of two sets are:\",x&y)\n",
    "print(\"difference of two sets are:\",x-y)\n",
    "print(\"x is subset of y?:\",x<y)\n",
    "print(\"check either sets are disjoint?:\",x.isdisjoint(y))"
   ]
  },
  {
   "cell_type": "markdown",
   "id": "b1984856",
   "metadata": {},
   "source": [
    "# Reading and writing files"
   ]
  },
  {
   "cell_type": "code",
   "execution_count": 74,
   "id": "6b79c3d6",
   "metadata": {},
   "outputs": [],
   "source": [
    "import os\n",
    "\n",
    "f=open(\"C:\\\\Users\\\\ST\\\\Desktop\\\\r_w_files\\\\funny.txt\",\"w\")\n",
    "f.write(\"I love python\")\n",
    "f.close()"
   ]
  },
  {
   "cell_type": "code",
   "execution_count": 75,
   "id": "9d419a80",
   "metadata": {},
   "outputs": [
    {
     "name": "stdout",
     "output_type": "stream",
     "text": [
      "I love python\n"
     ]
    }
   ],
   "source": [
    "f=open(\"C:\\\\Users\\\\ST\\\\Desktop\\\\r_w_files\\\\funny.txt\",\"r\")\n",
    "print(f.read())\n",
    "f.close()"
   ]
  },
  {
   "cell_type": "code",
   "execution_count": 76,
   "id": "edea7908",
   "metadata": {},
   "outputs": [],
   "source": [
    "f=open(\"C:\\\\Users\\\\ST\\\\Desktop\\\\r_w_files\\\\funny.txt\",\"a\")\n",
    "f.write(\"\\nI love java\")\n",
    "f.close()"
   ]
  },
  {
   "cell_type": "code",
   "execution_count": 77,
   "id": "23c8d484",
   "metadata": {},
   "outputs": [
    {
     "name": "stdout",
     "output_type": "stream",
     "text": [
      "I love python\n",
      "\n",
      "I love java\n"
     ]
    }
   ],
   "source": [
    "#want to read data line by line\n",
    "f=open(\"C:\\\\Users\\\\ST\\\\Desktop\\\\r_w_files\\\\funny.txt\",\"r\")\n",
    "for line in f:\n",
    "    print(line)\n",
    "f.close()"
   ]
  },
  {
   "cell_type": "code",
   "execution_count": 78,
   "id": "e4a06702",
   "metadata": {},
   "outputs": [
    {
     "name": "stdout",
     "output_type": "stream",
     "text": [
      "['I', 'love', 'python\\n']\n",
      "3\n",
      "['I', 'love', 'java']\n",
      "3\n"
     ]
    }
   ],
   "source": [
    "#want to show words count from every line\n",
    "f=open(\"C:\\\\Users\\\\ST\\\\Desktop\\\\r_w_files\\\\funny.txt\",\"r\")\n",
    "for line in f:\n",
    "    tokens= line.split(' ')\n",
    "    print(str(tokens))\n",
    "    print(len(tokens))\n",
    "\n",
    "f.close()"
   ]
  },
  {
   "cell_type": "code",
   "execution_count": 79,
   "id": "e5297f31",
   "metadata": {},
   "outputs": [],
   "source": [
    "# read data from one file and write the same data into another file\n",
    "f1=open(\"C:\\\\Users\\\\ST\\\\Desktop\\\\r_w_files\\\\funny.txt\",\"r\")\n",
    "f2=open(\"C:\\\\Users\\\\ST\\\\Desktop\\\\r_w_files\\\\funny1.txt\",\"w\")\n",
    "for line in f1:\n",
    "    f2.write(line)\n",
    "\n",
    "f1.close()\n",
    "f2.close()"
   ]
  },
  {
   "cell_type": "code",
   "execution_count": 82,
   "id": "1aceb548",
   "metadata": {},
   "outputs": [
    {
     "name": "stdout",
     "output_type": "stream",
     "text": [
      "I love python\n",
      "I love java\n",
      "True\n"
     ]
    }
   ],
   "source": [
    "\n",
    "with open(\"C:\\\\Users\\\\ST\\\\Desktop\\\\r_w_files\\\\funny.txt\",\"r\") as f:\n",
    "    print(f.read())\n",
    "    \n",
    "print(f.closed)\n"
   ]
  },
  {
   "cell_type": "markdown",
   "id": "670169eb",
   "metadata": {},
   "source": [
    "# Exception Handling"
   ]
  },
  {
   "cell_type": "code",
   "execution_count": 85,
   "id": "6e06cf28",
   "metadata": {},
   "outputs": [
    {
     "name": "stdout",
     "output_type": "stream",
     "text": [
      "enter number 16\n",
      "enter number 20\n",
      "Expection is <class 'ZeroDivisionError'>\n"
     ]
    }
   ],
   "source": [
    "a= input(\"enter number 1\")\n",
    "b= input(\"enter number 2\")\n",
    "try:\n",
    "    c=int(a)/int(b)\n",
    "    print(c)\n",
    "except Exception as e:\n",
    "    print(\"Expection is\",type(e))"
   ]
  },
  {
   "cell_type": "code",
   "execution_count": 86,
   "id": "9e01f53e",
   "metadata": {},
   "outputs": [
    {
     "name": "stdout",
     "output_type": "stream",
     "text": [
      "enter number 15\n",
      "enter number 20\n",
      "There is zero division error\n"
     ]
    }
   ],
   "source": [
    "a= input(\"enter number 1\")\n",
    "b= input(\"enter number 2\")\n",
    "try:\n",
    "    c=int(a)/int(b)\n",
    "    print(c)\n",
    "except ZeroDivisionError as e:\n",
    "    print(\"There is zero division error\")"
   ]
  },
  {
   "cell_type": "markdown",
   "id": "2a88bb0c",
   "metadata": {},
   "source": [
    "# Class and Object"
   ]
  },
  {
   "cell_type": "code",
   "execution_count": 88,
   "id": "4fb2a501",
   "metadata": {},
   "outputs": [
    {
     "name": "stdout",
     "output_type": "stream",
     "text": [
      "his salary depends upon business\n"
     ]
    }
   ],
   "source": [
    "class Human:\n",
    "    def __init__(self,name,occupation):\n",
    "        self.name=name\n",
    "        self.occupation=occupation\n",
    "    def check_salary(self):\n",
    "        if self.occupation==\"business\":\n",
    "            print(\"his salary depends upon business\")\n",
    "        else:\n",
    "            print(\"not knoe expected salary\")\n",
    "            \n",
    "a= Human(\"arifa\",\"business\")\n",
    "a.check_salary()"
   ]
  },
  {
   "cell_type": "markdown",
   "id": "8c73d482",
   "metadata": {},
   "source": [
    "### multiple inheritance"
   ]
  },
  {
   "cell_type": "code",
   "execution_count": 99,
   "id": "1c8e8062",
   "metadata": {},
   "outputs": [
    {
     "name": "stdout",
     "output_type": "stream",
     "text": [
      "painting\n",
      "cooking\n",
      "None\n"
     ]
    }
   ],
   "source": [
    "class Mother:\n",
    "    def skills(self):\n",
    "        print(\"cooking\")\n",
    "class Father:\n",
    "    def skills(self):\n",
    "        print(\"business\")\n",
    "class Child(Mother,Father):\n",
    "    def skills(self):\n",
    "        print(\"painting\")\n",
    "        #print(\"Mother skills\",Mother.skills(self))\n",
    "        print(Mother.skills(self))\n",
    "c=Child()\n",
    "c.skills()\n"
   ]
  },
  {
   "cell_type": "markdown",
   "id": "62de10d8",
   "metadata": {},
   "source": [
    "# Raise Exception"
   ]
  },
  {
   "cell_type": "markdown",
   "id": "b4a4f68f",
   "metadata": {},
   "source": [
    "## how to raise standard exception"
   ]
  },
  {
   "cell_type": "code",
   "execution_count": 120,
   "id": "1fcdc189",
   "metadata": {},
   "outputs": [
    {
     "name": "stdout",
     "output_type": "stream",
     "text": [
      "low memory\n"
     ]
    }
   ],
   "source": [
    "# if we know the error type of exception\n",
    "try:\n",
    "    raise MemoryError(\"low memory\") #raise type of error (\"message for that type of error\")\n",
    "except MemoryError as e:\n",
    "    print(e)"
   ]
  },
  {
   "cell_type": "markdown",
   "id": "69a91dfd",
   "metadata": {},
   "source": [
    "## how to raise user define exception"
   ]
  },
  {
   "cell_type": "code",
   "execution_count": 122,
   "id": "6180b21b",
   "metadata": {},
   "outputs": [
    {
     "name": "stdout",
     "output_type": "stream",
     "text": [
      "it is user define error accident occur\n"
     ]
    }
   ],
   "source": [
    "class Accident(Exception):# inherit from exception class\n",
    "    def __init__(self,msg):\n",
    "        self.msg=msg\n",
    "    def user_define_error(self):\n",
    "        print(\"it is user define error\",self.msg)\n",
    "        \n",
    "try:\n",
    "    raise Accident(\"accident occur\")\n",
    "except Accident as e:\n",
    "    e.user_define_error()\n"
   ]
  },
  {
   "cell_type": "markdown",
   "id": "b7f4f899",
   "metadata": {},
   "source": [
    "# Finally keyword"
   ]
  },
  {
   "cell_type": "code",
   "execution_count": 126,
   "id": "8703f6de",
   "metadata": {},
   "outputs": [
    {
     "name": "stdout",
     "output_type": "stream",
     "text": [
      "division by zero\n",
      "clean file\n"
     ]
    }
   ],
   "source": [
    "try:\n",
    "    f=open(\"C:\\\\Users\\\\ST\\\\Desktop\\\\r_w_files\\\\funny.txt\",\"a\")\n",
    "    a=10/0\n",
    "except FileNotFoundError as e:\n",
    "    print(e)\n",
    "except ZeroDivisionError as e:\n",
    "    print(e)   \n",
    "\n",
    "finally:\n",
    "    print(\"clean file\")\n",
    "    f.close()\n"
   ]
  },
  {
   "cell_type": "markdown",
   "id": "53e0da97",
   "metadata": {},
   "source": [
    "# Generators"
   ]
  },
  {
   "cell_type": "code",
   "execution_count": 101,
   "id": "8b91560b",
   "metadata": {},
   "outputs": [
    {
     "data": {
      "text/plain": [
       "'abc'"
      ]
     },
     "execution_count": 101,
     "metadata": {},
     "output_type": "execute_result"
    }
   ],
   "source": [
    "def remote_control():\n",
    "    yield \"abc\"\n",
    "    yield \"xyz\"\n",
    "    \n",
    "itr= remote_control()\n",
    "try:\n",
    "next(itr)\n"
   ]
  },
  {
   "cell_type": "code",
   "execution_count": 102,
   "id": "a7e790b0",
   "metadata": {},
   "outputs": [
    {
     "data": {
      "text/plain": [
       "'xyz'"
      ]
     },
     "execution_count": 102,
     "metadata": {},
     "output_type": "execute_result"
    }
   ],
   "source": [
    "next(itr)"
   ]
  },
  {
   "cell_type": "markdown",
   "id": "a24439e4",
   "metadata": {},
   "source": [
    "# Decorators"
   ]
  },
  {
   "cell_type": "code",
   "execution_count": 119,
   "id": "2e884114",
   "metadata": {},
   "outputs": [
    {
     "name": "stdout",
     "output_type": "stream",
     "text": [
      "started\n",
      "hello\n",
      "ended\n"
     ]
    }
   ],
   "source": [
    "def func(f1):\n",
    "    def wrapper():\n",
    "        print(\"started\")\n",
    "        f1()\n",
    "        print(\"ended\")\n",
    "    return wrapper\n",
    "@func        \n",
    "def dec():\n",
    "    print(\"hello\")\n",
    "    \n",
    "dec()\n"
   ]
  },
  {
   "cell_type": "code",
   "execution_count": null,
   "id": "5ba62265",
   "metadata": {},
   "outputs": [],
   "source": []
  }
 ],
 "metadata": {
  "kernelspec": {
   "display_name": "Python 3 (ipykernel)",
   "language": "python",
   "name": "python3"
  },
  "language_info": {
   "codemirror_mode": {
    "name": "ipython",
    "version": 3
   },
   "file_extension": ".py",
   "mimetype": "text/x-python",
   "name": "python",
   "nbconvert_exporter": "python",
   "pygments_lexer": "ipython3",
   "version": "3.9.7"
  }
 },
 "nbformat": 4,
 "nbformat_minor": 5
}
